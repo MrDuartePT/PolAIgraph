{
 "cells": [
  {
   "cell_type": "code",
   "execution_count": null,
   "metadata": {},
   "outputs": [],
   "source": [
    "import torch\n",
    "import os\n",
    "import evaluate\n",
    "from tqdm import tqdm\n",
    "import pandas as pd\n",
    "from torch.utils.data import Dataset, DataLoader\n",
    "from sklearn.preprocessing import LabelEncoder\n",
    "from transformers import AutoTokenizer\n",
    "from transformers import BertTokenizer, BertConfig , BertModel, DistilBertModel, AutoModel, AutoModelForSequenceClassification\n",
    "from sklearn.metrics import accuracy_score, classification_report\n",
    "from transformers import BertTokenizer, BertModel, AdamW, get_linear_schedule_with_warmup\n",
    "from sklearn.model_selection import train_test_split\n",
    "import numpy as np\n",
    "\n",
    "# Set the device and load the model\n",
    "device = torch.device(\"cuda\" if torch.cuda.is_available() else \"cpu\")\n"
   ]
  },
  {
   "cell_type": "markdown",
   "metadata": {},
   "source": [
    "# Aplication of the models\n",
    "Now we gonna apply the 3 modes:\n",
    "- distilbert_fact_classifier\n",
    "- distilbert_fact_agrument_classifier\n",
    "- distilbert_agrument_classifier\n",
    "\n",
    "To the [`us_election_2020_2nd_presidential_debate`](Truthify/Datasets/us_debates/original/us_election_2020_2nd_presidential_debate.csv) dataset.\n"
   ]
  },
  {
   "cell_type": "markdown",
   "metadata": {},
   "source": [
    "We also gonna do the same [`us_election_2020_trump_town_hall.csv`](Truthify/Datasets/us_debates/original/us_election_2020_trump_town_hall.csv) and [`us_election_2020_biden_town_hall.csv`](Truthify/Datasets/us_debates/original/us_election_2020_biden_town_hall.csv).\n",
    "\n",
    "Since this dataset only contains speeches from one speakers, Trump or Biden, the goal of the analysis is to examine the frequency of specific argument types—namely, `Counterargument (Contradiction)` and `Restatement`. This analyse allow to see if speaker is actively defending their beliefs or engaging in persuasive strategies.\n"
   ]
  },
  {
   "cell_type": "code",
   "execution_count": null,
   "metadata": {},
   "outputs": [],
   "source": [
    "# Load the models\n",
    "model_fact_agrument_classifier = AutoModelForSequenceClassification.from_pretrained(\"../models/distilbert_fact_agrument_classifier\").to(device)\n",
    "tokenizer_fact_agrument_classifier = BertTokenizer.from_pretrained(\"../models/distilbert_fact_agrument_classifier\")\n",
    "\n",
    "model_fact_classifier = AutoModel.from_pretrained(\"distilbert-base-uncased\").to(device)\n",
    "model_fact_classifier.load_state_dict(torch.load('../models/distilbert_fact_classifier.pth', weights_only=False))\n",
    "model_fact_classifier.to(device)\n",
    "tokenizer_fact_classifier = BertTokenizer.from_pretrained(\"distilbert-base-uncased\")\n",
    "\n",
    "model_agrument_classifier = AutoModelForSequenceClassification.from_pretrained(\"../models/distilbert_agrument_classifier\").to(device)\n",
    "tokenizer_agrument_classifier = BertTokenizer.from_pretrained(\"../models/distilbert_agrument_classifier\")"
   ]
  },
  {
   "cell_type": "code",
   "execution_count": null,
   "metadata": {},
   "outputs": [],
   "source": [
    "# Load datatset\n",
    "second_presidential_debate=pd.read_csv(os.path.join('Datasets','us_debates','original','us_election_2020_2nd_presidential_debate.csv'))\n",
    "trump_town_hall_debate=pd.read_csv(os.path.join('Datasets','us_debates','original','us_election_2020_trump_town_hall.csv'))\n",
    "biden_town_hall_debate=pd.read_csv(os.path.join('Datasets','us_debates','original','us_election_2020_biden_town_hall.csv'))\n",
    "\n",
    "# Remove stop words\n"
   ]
  }
 ],
 "metadata": {
  "language_info": {
   "name": "python"
  }
 },
 "nbformat": 4,
 "nbformat_minor": 2
}
